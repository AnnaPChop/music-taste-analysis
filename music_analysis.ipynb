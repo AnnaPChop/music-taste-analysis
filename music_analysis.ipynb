{
 "cells": [
  {
   "cell_type": "markdown",
   "id": "3f9257b6",
   "metadata": {},
   "source": [
    "# Who Listens to What? An Exploratory Analysis of Music Preferences\n",
    "\n",
    "In the world of music streaming, data tells a story. This project dives into a dataset of music listening habits from two cities, Springfield and Shelbyville, to uncover the hidden narratives within their playlists. The primary goal is to perform a comprehensive analysis to understand, compare, and contrast the musical preferences of their residents.\n",
    "\n",
    "We will answer key questions such as:\n",
    "\n",
    "- What are the most popular genres in each city?\n",
    "\n",
    "- Do listening habits change on different days of the week?\n",
    "\n",
    "- How do the overall music tastes of the two cities truly differ?\n",
    "\n",
    "This notebook will walk through the entire data analysis process, starting with crucial data cleaning and preprocessing, moving into exploratory data analysis (EDA) with visualizations, and finally, performing hypothesis testing to validate our observations.\n",
    "\n",
    "**Tools Used**: Python, Pandas, Matplotlib, and Seaborn."
   ]
  },
  {
   "cell_type": "markdown",
   "id": "5f837c33",
   "metadata": {},
   "source": [
    "## Step 1: Initial Data Inspection\n",
    "\n",
    "Before we do anything else, it's important to load and inspect the data to get a clear picture of what we're working with. This helps us confirm column names, find potential issues, and understand the data types."
   ]
  },
  {
   "cell_type": "code",
   "execution_count": 1,
   "id": "bbf78ef7",
   "metadata": {},
   "outputs": [
    {
     "data": {
      "text/html": [
       "<div>\n",
       "<style scoped>\n",
       "    .dataframe tbody tr th:only-of-type {\n",
       "        vertical-align: middle;\n",
       "    }\n",
       "\n",
       "    .dataframe tbody tr th {\n",
       "        vertical-align: top;\n",
       "    }\n",
       "\n",
       "    .dataframe thead th {\n",
       "        text-align: right;\n",
       "    }\n",
       "</style>\n",
       "<table border=\"1\" class=\"dataframe\">\n",
       "  <thead>\n",
       "    <tr style=\"text-align: right;\">\n",
       "      <th></th>\n",
       "      <th>userID</th>\n",
       "      <th>Track</th>\n",
       "      <th>artist</th>\n",
       "      <th>genre</th>\n",
       "      <th>City</th>\n",
       "      <th>time</th>\n",
       "      <th>Day</th>\n",
       "    </tr>\n",
       "  </thead>\n",
       "  <tbody>\n",
       "    <tr>\n",
       "      <th>0</th>\n",
       "      <td>FFB692EC</td>\n",
       "      <td>Kamigata To Boots</td>\n",
       "      <td>The Mass Missile</td>\n",
       "      <td>rock</td>\n",
       "      <td>Shelbyville</td>\n",
       "      <td>20:28:33</td>\n",
       "      <td>Wednesday</td>\n",
       "    </tr>\n",
       "    <tr>\n",
       "      <th>1</th>\n",
       "      <td>55204538</td>\n",
       "      <td>Delayed Because of Accident</td>\n",
       "      <td>Andreas Rönnberg</td>\n",
       "      <td>rock</td>\n",
       "      <td>Springfield</td>\n",
       "      <td>14:07:09</td>\n",
       "      <td>Friday</td>\n",
       "    </tr>\n",
       "    <tr>\n",
       "      <th>2</th>\n",
       "      <td>20EC38</td>\n",
       "      <td>Funiculì funiculà</td>\n",
       "      <td>Mario Lanza</td>\n",
       "      <td>pop</td>\n",
       "      <td>Shelbyville</td>\n",
       "      <td>20:58:07</td>\n",
       "      <td>Wednesday</td>\n",
       "    </tr>\n",
       "    <tr>\n",
       "      <th>3</th>\n",
       "      <td>A3DD03C9</td>\n",
       "      <td>Dragons in the Sunset</td>\n",
       "      <td>Fire + Ice</td>\n",
       "      <td>folk</td>\n",
       "      <td>Shelbyville</td>\n",
       "      <td>08:37:09</td>\n",
       "      <td>Monday</td>\n",
       "    </tr>\n",
       "    <tr>\n",
       "      <th>4</th>\n",
       "      <td>E2DC1FAE</td>\n",
       "      <td>Soul People</td>\n",
       "      <td>Space Echo</td>\n",
       "      <td>dance</td>\n",
       "      <td>Springfield</td>\n",
       "      <td>08:34:34</td>\n",
       "      <td>Monday</td>\n",
       "    </tr>\n",
       "  </tbody>\n",
       "</table>\n",
       "</div>"
      ],
      "text/plain": [
       "     userID                        Track            artist  genre  \\\n",
       "0  FFB692EC            Kamigata To Boots  The Mass Missile   rock   \n",
       "1  55204538  Delayed Because of Accident  Andreas Rönnberg   rock   \n",
       "2    20EC38            Funiculì funiculà       Mario Lanza    pop   \n",
       "3  A3DD03C9        Dragons in the Sunset        Fire + Ice   folk   \n",
       "4  E2DC1FAE                  Soul People        Space Echo  dance   \n",
       "\n",
       "        City        time        Day  \n",
       "0  Shelbyville  20:28:33  Wednesday  \n",
       "1  Springfield  14:07:09     Friday  \n",
       "2  Shelbyville  20:58:07  Wednesday  \n",
       "3  Shelbyville  08:37:09     Monday  \n",
       "4  Springfield  08:34:34     Monday  "
      ]
     },
     "execution_count": 1,
     "metadata": {},
     "output_type": "execute_result"
    }
   ],
   "source": [
    "# Load and inspect the dataset\n",
    "import pandas as pd\n",
    "\n",
    "# Load the CSV file\n",
    "df = pd.read_csv('data/music_project_en (1).csv')\n",
    "\n",
    "# Display the first few rows\n",
    "df.head()"
   ]
  },
  {
   "cell_type": "code",
   "execution_count": 2,
   "id": "6d3bc8bb",
   "metadata": {},
   "outputs": [
    {
     "name": "stdout",
     "output_type": "stream",
     "text": [
      "Column names: ['  userID', 'Track', 'artist', 'genre', '  City  ', 'time', 'Day']\n",
      "\n",
      "Missing values per column:\n",
      "Track     1343\n",
      "artist    7567\n",
      "genre     1198\n",
      "dtype: int64\n",
      "\n",
      "Number of duplicate rows: 3826\n",
      "\n",
      "DataFrame info:\n",
      "<class 'pandas.core.frame.DataFrame'>\n",
      "RangeIndex: 65079 entries, 0 to 65078\n",
      "Data columns (total 7 columns):\n",
      " #   Column    Non-Null Count  Dtype \n",
      "---  ------    --------------  ----- \n",
      " 0     userID  65079 non-null  object\n",
      " 1   Track     63736 non-null  object\n",
      " 2   artist    57512 non-null  object\n",
      " 3   genre     63881 non-null  object\n",
      " 4     City    65079 non-null  object\n",
      " 5   time      65079 non-null  object\n",
      " 6   Day       65079 non-null  object\n",
      "dtypes: object(7)\n",
      "memory usage: 3.5+ MB\n"
     ]
    }
   ],
   "source": [
    "# Check for leading/trailing spaces in column names\n",
    "print('Column names:', list(df.columns))\n",
    "\n",
    "# Check for missing values in each column\n",
    "print('\\nMissing values per column:')\n",
    "print(df[['Track', 'artist', 'genre']].isnull().sum())\n",
    "\n",
    "# Check for duplicate rows\n",
    "num_duplicates = df.duplicated().sum()\n",
    "print(f'\\nNumber of duplicate rows: {num_duplicates}')\n",
    "\n",
    "# Check data types and non-null counts\n",
    "print('\\nDataFrame info:')\n",
    "df.info()"
   ]
  },
  {
   "cell_type": "markdown",
   "id": "6e68cc85",
   "metadata": {},
   "source": [
    "### Data Inspection Findings\n",
    "The initial look at the data gives us critical information:\n",
    "\n",
    "- **Column Names:** There are leading/trailing spaces in some column names (e.g., `'  userID'`, `'  City  '`). This is a common issue and needs to be fixed to avoid errors.\n",
    "- **Missing Values:** We have missing values in the `Track`, `artist`, and `genre` columns. We need a strategy to handle these. Simply dropping them might remove too much data, so we'll have to be smart about it.\n",
    "- **Duplicates:** There are 3,826 duplicate rows. These should be removed to ensure our analysis is accurate.\n",
    "- **Data Types:** All columns are currently of the object type. While this is fine for most, the `time` column should ideally be a datetime object if we want to do time-based analysis."
   ]
  }
 ],
 "metadata": {
  "kernelspec": {
   "display_name": "base",
   "language": "python",
   "name": "python3"
  },
  "language_info": {
   "codemirror_mode": {
    "name": "ipython",
    "version": 3
   },
   "file_extension": ".py",
   "mimetype": "text/x-python",
   "name": "python",
   "nbconvert_exporter": "python",
   "pygments_lexer": "ipython3",
   "version": "3.12.4"
  }
 },
 "nbformat": 4,
 "nbformat_minor": 5
}
